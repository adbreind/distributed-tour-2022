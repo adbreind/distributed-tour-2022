{
 "cells": [
  {
   "cell_type": "markdown",
   "metadata": {
    "colab_type": "text",
    "id": "dXnXTrORzdnk"
   },
   "source": [
    "# ODSC West 2022: <br/> Democratizing Distributed Compute and Machine Learning: A Tour of Three Frameworks\n",
    "\n",
    "> \"Democratizing\" has become a buzzword, and why not? Institutions of all types are discovering that almost every job role touches a bit of large-scale data analysis or data science, and sometimes more than just a bit! In this talk we'll look at the patterns, strengths, and weaknesses of three different open-source tools, which all claim to make large-scale computation simpler, easier, and more accessible to more people.\n",
    ">\n",
    ">Our exploration will reveal not only major differences at the technical level, but also differences in culture, documentation, usability, open-source governance, and other areas. How easy are they to use, for real people in real organizations?\n",
    ">\n",
    ">We'll look at...\n",
    ">\n",
    "> * __Apache Spark__, a well established cluster computing tool suited to many kinds of work. Among other languages, Apache Spark boasts SparkSQL, which allows a huge number of SQL-capable folks to work on big data.\n",
    "> * __Ray__, a newer, multi language framework from UC Berkeley's RISE lab. Ray focuses on simplifying the scaffolding beneath distributed task graphs and actor sets so that users can focus on simple distributed training, tuning, reinforcement learning, and more.\n",
    "> * __Dask__, a Python-native library and part of the SciPy ecosystem dedicated to scaling popular tools like Pandas and NumPy. Dask lets users apply their existing Python knowledge by supporting elements of the Pandas, NumPy, and scikit-learn APIs ... and also extends to scheduling custom task graphs.\n",
    ">\n",
    "> All of these projects focus in some way on ease of use, and all have expanded the abilities of normal humans to work with data at scale. But they are also each quite different. This workshop will feature hands-on coding (with supplied notebooks), to help you think about what's easy, what's hard, what life is like with these tools, and which ones may be right for your organization.\n",
    ">\n",
    "> *Focus: Mostly Technical / Some Business ... Experience level: Intermediate*\n",
    "\n",
    "## Tour Itinerary\n",
    "1. Intro\n",
    "1. Overview of platforms: 3 frameworks in 14 minutes\n",
    "1. Strengths, weaknesses, differences: 3 frameworks in 59 minutes\n",
    "1. End-to-end example using multiple frameworks\n",
    "1. Recommendations, speculations, inside baseball, Q & A\n",
    "\n",
    "\n",
    "### Instructor: Adam Breindel\n",
    "\n",
    "#### Contact: https://www.linkedin.com/in/adbreind - adbreind@gmail.com\n",
    "\n",
    "<img src=\"https://materials.s3.amazonaws.com/i/lpMDU9j.jpg\" width=200 style=\"margin-right:2em;margin-top:1em\">\n",
    "\n",
    "* 25 years building systems for startups and large enterprises including enterprise, mobile, web, data, machine learning\n",
    "* 15 years teaching front- and back-end technology\n",
    "\n",
    "#### Interesting projects...\n",
    "* My first full-time job in tech involved streaming neural net fraud scoring (debit cards)\n",
    "* Realtime & offline analytics for banking\n",
    "* Music synchronization and licensing for networked jukeboxes\n",
    "\n",
    "#### Industries\n",
    "* Finance / Insurance, Travel, Media / Entertainment, Government, Energy, Tech"
   ]
  },
  {
   "cell_type": "code",
   "execution_count": null,
   "metadata": {},
   "outputs": [],
   "source": []
  }
 ],
 "metadata": {
  "accelerator": "GPU",
  "colab": {
   "collapsed_sections": [],
   "name": "01QI-Intro.ipynb",
   "provenance": [
    {
     "file_id": "1tKG1FZPbCHSqp4kJx52wgnG9f7RW0Cvf",
     "timestamp": 1553029369447
    }
   ],
   "version": "0.3.2"
  },
  "kernelspec": {
   "display_name": "Python 3 (ipykernel)",
   "language": "python",
   "name": "python3"
  },
  "language_info": {
   "codemirror_mode": {
    "name": "ipython",
    "version": 3
   },
   "file_extension": ".py",
   "mimetype": "text/x-python",
   "name": "python",
   "nbconvert_exporter": "python",
   "pygments_lexer": "ipython3",
   "version": "3.9.13"
  }
 },
 "nbformat": 4,
 "nbformat_minor": 4
}
